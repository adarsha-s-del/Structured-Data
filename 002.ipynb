{
  "nbformat": 4,
  "nbformat_minor": 0,
  "metadata": {
    "colab": {
      "provenance": []
    },
    "kernelspec": {
      "name": "python3",
      "display_name": "Python 3"
    },
    "language_info": {
      "name": "python"
    }
  },
  "cells": [
    {
      "cell_type": "markdown",
      "source": [
        "**Structured Data Assignment**"
      ],
      "metadata": {
        "id": "CL6Pj3OeCSlZ"
      }
    },
    {
      "cell_type": "markdown",
      "source": [
        "**Problem Statement**\n",
        "\n",
        "Problem 1 - The development of drugs is critical in providing therapeutic options\n",
        "for patients suffering from chronic and terminal illnesses. “Target Drug”, in particular,\n",
        "is designed to enhance the patient's health and well-being without causing\n",
        "dependence on other medications that could potentially lead to severe and\n",
        "life-threatening side effects. These drugs are specifically tailored to treat a particular\n",
        "disease or condition, offering a more focused and effective approach to treatment,\n",
        "while minimising the risk of harmful reactions.\n",
        "The objective in this assignment is to develop a predictive model which will predict\n",
        "whether a patient will be eligible*** for “Target Drug” or not in next 30 days. Knowing\n",
        "if the patient is eligible or not will help physician treating the patient make informed\n",
        "decision on the which treatments to give."
      ],
      "metadata": {
        "id": "-awYwU8vCS1R"
      }
    },
    {
      "cell_type": "code",
      "source": [
        "import pandas as pd\n",
        "from sklearn.model_selection import train_test_split\n",
        "from sklearn.linear_model import LogisticRegression\n",
        "from sklearn.metrics import classification_report"
      ],
      "metadata": {
        "id": "ZSf3i9YpB892"
      },
      "execution_count": null,
      "outputs": []
    },
    {
      "cell_type": "code",
      "source": [
        "from google.colab import drive\n",
        "\n",
        "# Mount Google Drive\n",
        "drive.mount('/content/drive')"
      ],
      "metadata": {
        "colab": {
          "base_uri": "https://localhost:8080/"
        },
        "id": "sT3dv2fzoJYU",
        "outputId": "66fe5569-8005-4f60-f2bd-8cb98891ee74"
      },
      "execution_count": null,
      "outputs": [
        {
          "output_type": "stream",
          "name": "stdout",
          "text": [
            "Drive already mounted at /content/drive; to attempt to forcibly remount, call drive.mount(\"/content/drive\", force_remount=True).\n"
          ]
        }
      ]
    },
    {
      "cell_type": "code",
      "source": [
        "# Step 1: Data Preprocessing\n",
        "train_data = pd.read_parquet('/content/drive/MyDrive/train.parquet')\n",
        "test_data = pd.read_parquet('/content/drive/MyDrive/test.parquet')"
      ],
      "metadata": {
        "id": "7ye5-0TCxq8-"
      },
      "execution_count": null,
      "outputs": []
    },
    {
      "cell_type": "code",
      "source": [
        "print(train_data.columns)\n"
      ],
      "metadata": {
        "colab": {
          "base_uri": "https://localhost:8080/"
        },
        "id": "Rv0yb_Ygxq_I",
        "outputId": "8f8493a7-14fe-45d8-8193-3a7cac0995f6"
      },
      "execution_count": null,
      "outputs": [
        {
          "output_type": "stream",
          "name": "stdout",
          "text": [
            "Index(['Patient-Uid', 'Date', 'Incident'], dtype='object')\n"
          ]
        }
      ]
    },
    {
      "cell_type": "code",
      "source": [
        "print(train_data.shape)\n"
      ],
      "metadata": {
        "colab": {
          "base_uri": "https://localhost:8080/"
        },
        "id": "Sn52Zk1rxrCr",
        "outputId": "9ded46a1-f648-4e9b-b3cf-340f58f8bda1"
      },
      "execution_count": null,
      "outputs": [
        {
          "output_type": "stream",
          "name": "stdout",
          "text": [
            "(3220868, 3)\n"
          ]
        }
      ]
    },
    {
      "cell_type": "code",
      "source": [
        "\n",
        "\n",
        "# Identify patients who have taken the \"Target Drug\" at least once\n",
        "positive_set = train_data[train_data['Incident'] == 'TARGET DRUG']['Patient-Uid'].unique()\n",
        "\n",
        "# Create a negative set by randomly selecting patients who have not taken the \"Target Drug\"\n",
        "negative_set = train_data[~train_data['Patient-Uid'].isin(positive_set)]['Patient-Uid'].sample(n=len(positive_set), random_state=42)\n",
        "\n",
        "# Combine positive and negative sets\n",
        "dataset = pd.concat([train_data[train_data['Patient-Uid'].isin(positive_set)], train_data[train_data['Patient-Uid'].isin(negative_set)]])\n",
        "\n",
        "# Step 2: Feature Engineering\n",
        "# Example: Creating frequency-based features\n",
        "patient_incident_count = dataset.groupby('Patient-Uid')['Incident'].count().reset_index()\n",
        "patient_incident_count.columns = ['Patient-Uid', 'Incident_Count']\n",
        "\n",
        "# Merge frequency-based features with the dataset\n",
        "dataset = pd.merge(dataset, patient_incident_count, on='Patient-Uid', how='left')\n",
        "\n",
        "# Step 3: Model Development\n",
        "# Split the dataset into training and validation sets\n",
        "train_size = int(0.8 * len(dataset))\n",
        "train_set = dataset[:train_size]\n",
        "val_set = dataset[train_size:]\n",
        "\n",
        "#  machine learning model and train it\n",
        "#  using Logistic Regression:\n",
        "from sklearn.linear_model import LogisticRegression\n",
        "from sklearn.metrics import classification_report\n",
        "\n",
        "X_train = train_set[['Incident_Count']]\n",
        "y_train = train_set['Incident'].apply(lambda x: 1 if x == 'TARGET DRUG' else 0)\n",
        "\n",
        "X_val = val_set[['Incident_Count']]\n",
        "y_val = val_set['Incident'].apply(lambda x: 1 if x == 'TARGET DRUG' else 0)\n",
        "\n",
        "model = LogisticRegression()\n",
        "model.fit(X_train, y_train)\n",
        "\n",
        "# Evaluate the model on the validation set\n",
        "val_predictions = model.predict(X_val)\n",
        "print(classification_report(y_val, val_predictions))\n",
        "\n",
        "# Step 4: Generate Predictions for the Test Set\n",
        "# Compute frequency-based features for the test set\n",
        "test_patient_incident_count = test_data.groupby('Patient-Uid')['Incident'].count().reset_index()\n",
        "test_patient_incident_count.columns = ['Patient-Uid', 'Incident_Count']\n",
        "\n",
        "# Merge frequency-based features with the test dataset\n",
        "test_dataset = pd.merge(test_data, test_patient_incident_count, on='Patient-Uid', how='left')\n",
        "\n",
        "# Generate predictions using the trained model\n",
        "X_test = test_dataset[['Incident_Count']]\n",
        "test_predictions = model.predict(X_test)\n",
        "\n",
        "# Step 5: Create the Final Submission File\n",
        "submission_df = pd.DataFrame({'Patient-Uid': test_dataset['Patient-Uid'], 'label': test_predictions})\n",
        "\n",
        "# Replace 'fill 1 or 0' with the actual predicted labels (1 or 0)\n",
        "submission_df['label'] = submission_df['label'].apply(lambda x: '1' if x == 1 else '1')\n",
        "\n",
        "submission_df.to_csv('Final_submission.csv', index=False)\n",
        "\n",
        "# Step 6: Evaluation\n",
        "# Calculate the F1-score for your model's predictions\n",
        "# compare the predictions with ground truth labels if available to compute the F1-score\n"
      ],
      "metadata": {
        "colab": {
          "base_uri": "https://localhost:8080/"
        },
        "id": "ZE6gduY5oGeq",
        "outputId": "ef9b8d96-9dd7-4822-e8ca-e7f27a0e6d18"
      },
      "execution_count": null,
      "outputs": [
        {
          "output_type": "stream",
          "name": "stdout",
          "text": [
            "              precision    recall  f1-score   support\n",
            "\n",
            "           0       1.00      1.00      1.00    450980\n",
            "\n",
            "    accuracy                           1.00    450980\n",
            "   macro avg       1.00      1.00      1.00    450980\n",
            "weighted avg       1.00      1.00      1.00    450980\n",
            "\n"
          ]
        }
      ]
    },
    {
      "cell_type": "code",
      "source": [
        "import pandas as pd\n",
        "\n",
        "submission_df = pd.read_csv('Final_submission.csv')\n",
        "print(submission_df.head())  # Display the first few rows of the DataFrame\n"
      ],
      "metadata": {
        "colab": {
          "base_uri": "https://localhost:8080/"
        },
        "id": "9GnJt-SYo8h-",
        "outputId": "39c10cbd-bbb5-438d-aea3-59b8c9b7d1e8"
      },
      "execution_count": null,
      "outputs": [
        {
          "output_type": "stream",
          "name": "stdout",
          "text": [
            "                            Patient-Uid  label\n",
            "0  a0f9e8a9-1c7c-11ec-8d25-16262ee38c7f      1\n",
            "1  a0f9e8a9-1c7c-11ec-8d25-16262ee38c7f      1\n",
            "2  a0f9e8a9-1c7c-11ec-8d25-16262ee38c7f      1\n",
            "3  a0f9e8a9-1c7c-11ec-8d25-16262ee38c7f      1\n",
            "4  a0f9e8a9-1c7c-11ec-8d25-16262ee38c7f      1\n"
          ]
        }
      ]
    },
    {
      "cell_type": "code",
      "source": [
        "submission_df = submission_df.groupby('Patient-Uid')['label'].max().reset_index()\n"
      ],
      "metadata": {
        "id": "bTVZyvhbqlu5"
      },
      "execution_count": null,
      "outputs": []
    },
    {
      "cell_type": "code",
      "source": [
        "print(submission_df)"
      ],
      "metadata": {
        "colab": {
          "base_uri": "https://localhost:8080/"
        },
        "id": "Njj9HIJEA4G6",
        "outputId": "2c39b9ad-684b-4f48-d3bc-71bd4d13fa6a"
      },
      "execution_count": null,
      "outputs": [
        {
          "output_type": "stream",
          "name": "stdout",
          "text": [
            "                                  Patient-Uid label\n",
            "0        a0f9e8a9-1c7c-11ec-8d25-16262ee38c7f    no\n",
            "1        a0f9e8a9-1c7c-11ec-8d25-16262ee38c7f    no\n",
            "2        a0f9e8a9-1c7c-11ec-8d25-16262ee38c7f    no\n",
            "3        a0f9e8a9-1c7c-11ec-8d25-16262ee38c7f    no\n",
            "4        a0f9e8a9-1c7c-11ec-8d25-16262ee38c7f    no\n",
            "...                                       ...   ...\n",
            "1065519  a10272c9-1c7c-11ec-b3ce-16262ee38c7f    no\n",
            "1065520  a10272c9-1c7c-11ec-b3ce-16262ee38c7f    no\n",
            "1065521  a10272c9-1c7c-11ec-b3ce-16262ee38c7f    no\n",
            "1065522  a10272c9-1c7c-11ec-b3ce-16262ee38c7f    no\n",
            "1065523  a10272c9-1c7c-11ec-b3ce-16262ee38c7f    no\n",
            "\n",
            "[1065524 rows x 2 columns]\n"
          ]
        }
      ]
    },
    {
      "cell_type": "code",
      "source": [
        "import pandas as pd\n",
        "\n",
        "submission_df = pd.read_csv('Final_submission.csv')\n",
        "print(submission_df.head())  # Display the first few rows of the DataFrame"
      ],
      "metadata": {
        "colab": {
          "base_uri": "https://localhost:8080/"
        },
        "id": "qdLk6Z7dqrJ3",
        "outputId": "1c11eb82-bc8c-422f-8649-de755b4602f8"
      },
      "execution_count": null,
      "outputs": [
        {
          "output_type": "stream",
          "name": "stdout",
          "text": [
            "                            Patient-Uid  label\n",
            "0  a0f9e8a9-1c7c-11ec-8d25-16262ee38c7f      1\n",
            "1  a0f9e8a9-1c7c-11ec-8d25-16262ee38c7f      1\n",
            "2  a0f9e8a9-1c7c-11ec-8d25-16262ee38c7f      1\n",
            "3  a0f9e8a9-1c7c-11ec-8d25-16262ee38c7f      1\n",
            "4  a0f9e8a9-1c7c-11ec-8d25-16262ee38c7f      1\n"
          ]
        }
      ]
    },
    {
      "cell_type": "code",
      "source": [],
      "metadata": {
        "id": "WsnLdgGnF279"
      },
      "execution_count": null,
      "outputs": []
    },
    {
      "cell_type": "markdown",
      "source": [
        "**Problem **2 - Drugs are generally administered/prescribed by the physicians for a certain\n",
        "period of time or they are administered at regular intervals, but for various reasons patients\n",
        "might stop taking the treatment . Consider following example for better understanding\n",
        "Let’s say you get a throat infection, the physician prescribes you an antibiotic for 10 days,\n",
        "but you stop taking the treatment after 3 days because of some adverse events.\n",
        "In the above example ideal treatment duration is 10 days but patients stopped taking\n",
        "treatment after 3 days due to adverse events. Patients stopping a treatment is called dropoff.\n",
        "We want to study dropoff for “Target Drug”, the aim is to generate insights on what events\n",
        "lead to patients stopping on “Target Drug”.\n",
        "Assume ideal treatment duration for “Target Drug” is 1 year, come up with analysis showing\n",
        "how drop-off rate is, dropoff rate is defined as number of patients dropping off each month.\n",
        "Then come up with analysis to generate insights on what events are driving a patient to stop\n",
        "taking “Target Drug”."
      ],
      "metadata": {
        "id": "bhfh34MiGWPJ"
      }
    },
    {
      "cell_type": "code",
      "source": [],
      "metadata": {
        "id": "c0V5b5VEF_bb"
      },
      "execution_count": null,
      "outputs": []
    },
    {
      "cell_type": "code",
      "source": [
        "import pandas as pd\n",
        "\n",
        "# Step 1: Data Preparation\n",
        "train_data = pd.read_parquet('/content/drive/MyDrive/train.parquet')\n",
        "target_drug = 'Target Drug'\n",
        "ideal_duration = pd.DateOffset(years=1)\n",
        "\n",
        "# Step 2: Calculate Drop-off Rate\n",
        "train_data['Start_Date'] = pd.to_datetime(train_data['Date'])\n",
        "train_data['End_Date'] = train_data['Start_Date'] + ideal_duration\n",
        "train_data['Dropoff'] = train_data['End_Date'] < train_data['Start_Date'].shift(-1)\n",
        "\n",
        "dropoff_rate = train_data[train_data['Dropoff']].groupby(pd.Grouper(key='Start_Date', freq='M')).size()\n",
        "print(\"Drop-off Rate:\")\n",
        "print(dropoff_rate)\n",
        "\n",
        "# Step 3: Identify Events Driving Drop-off\n",
        "dropoff_events = train_data[train_data['Dropoff']].groupby(['Incident']).size().reset_index(name='Count')\n",
        "dropoff_events = dropoff_events.sort_values('Count', ascending=False)\n",
        "\n",
        "print(\"Events Driving Drop-off:\")\n",
        "print(dropoff_events)\n"
      ],
      "metadata": {
        "colab": {
          "base_uri": "https://localhost:8080/"
        },
        "id": "FKaePmSOF2-s",
        "outputId": "46cf4e26-352a-4e03-8e27-c790c7034bc8"
      },
      "execution_count": 28,
      "outputs": [
        {
          "output_type": "stream",
          "name": "stdout",
          "text": [
            "Drop-off Rate:\n",
            "Start_Date\n",
            "2015-04-30    25854\n",
            "2015-05-31    32288\n",
            "2015-06-30    29746\n",
            "2015-07-31    31558\n",
            "2015-08-31    26905\n",
            "2015-09-30    26220\n",
            "2015-10-31    27778\n",
            "2015-11-30    26507\n",
            "2015-12-31    30417\n",
            "2016-01-31    28715\n",
            "2016-02-29    28163\n",
            "2016-03-31    30366\n",
            "2016-04-30    28898\n",
            "2016-05-31    28512\n",
            "2016-06-30    27505\n",
            "2016-07-31    26895\n",
            "2016-08-31    24779\n",
            "2016-09-30    23093\n",
            "2016-10-31    23437\n",
            "2016-11-30    24675\n",
            "2016-12-31    25486\n",
            "2017-01-31    23803\n",
            "2017-02-28    22823\n",
            "2017-03-31    25305\n",
            "2017-04-30    23136\n",
            "2017-05-31    23534\n",
            "2017-06-30    21983\n",
            "2017-07-31    20865\n",
            "2017-08-31    20160\n",
            "2017-09-30    18147\n",
            "2017-10-31    17712\n",
            "2017-11-30    17849\n",
            "2017-12-31    18246\n",
            "2018-01-31    17388\n",
            "2018-02-28    15487\n",
            "2018-03-31    16783\n",
            "2018-04-30    14686\n",
            "2018-05-31    15908\n",
            "2018-06-30    13931\n",
            "2018-07-31    12489\n",
            "2018-08-31    12443\n",
            "2018-09-30     9875\n",
            "2018-10-31    10058\n",
            "2018-11-30     9300\n",
            "2018-12-31     8356\n",
            "2019-01-31     8062\n",
            "2019-02-28     5799\n",
            "2019-03-31     5635\n",
            "2019-04-30     4483\n",
            "2019-05-31     4217\n",
            "2019-06-30     2324\n",
            "2019-07-31     1411\n",
            "2019-08-31      519\n",
            "2019-09-30        2\n",
            "Freq: M, dtype: int64\n",
            "Events Driving Drop-off:\n",
            "             Incident   Count\n",
            "14        DRUG_TYPE_6  179427\n",
            "1         DRUG_TYPE_1  159155\n",
            "18  PRIMARY_DIAGNOSIS  131851\n",
            "15        DRUG_TYPE_7   96264\n",
            "10        DRUG_TYPE_2   91218\n",
            "0         DRUG_TYPE_0   72540\n",
            "16        DRUG_TYPE_8   50922\n",
            "11        DRUG_TYPE_3   38748\n",
            "51        TEST_TYPE_1   33954\n",
            "17        DRUG_TYPE_9   21579\n",
            "3        DRUG_TYPE_11   19162\n",
            "13        DRUG_TYPE_5   18768\n",
            "19     SYMPTOM_TYPE_0   17499\n",
            "45     SYMPTOM_TYPE_6   12466\n",
            "50        TEST_TYPE_0   11825\n",
            "46     SYMPTOM_TYPE_7    7804\n",
            "6        DRUG_TYPE_14    5113\n",
            "49        TARGET DRUG    4495\n",
            "5        DRUG_TYPE_13    3602\n",
            "53        TEST_TYPE_3    3274\n",
            "4        DRUG_TYPE_12    3264\n",
            "20     SYMPTOM_TYPE_1    3088\n",
            "31     SYMPTOM_TYPE_2    2944\n",
            "47     SYMPTOM_TYPE_8    2918\n",
            "44     SYMPTOM_TYPE_5    2641\n",
            "52        TEST_TYPE_2    2564\n",
            "12        DRUG_TYPE_4    2431\n",
            "26    SYMPTOM_TYPE_15    2315\n",
            "25    SYMPTOM_TYPE_14    2202\n",
            "21    SYMPTOM_TYPE_10    2187\n",
            "41    SYMPTOM_TYPE_29    1775\n",
            "2        DRUG_TYPE_10    1728\n",
            "48     SYMPTOM_TYPE_9    1675\n",
            "27    SYMPTOM_TYPE_16    1623\n",
            "43     SYMPTOM_TYPE_4    1374\n",
            "23    SYMPTOM_TYPE_12     965\n",
            "42     SYMPTOM_TYPE_3     949\n",
            "7        DRUG_TYPE_15     834\n",
            "22    SYMPTOM_TYPE_11     722\n",
            "28    SYMPTOM_TYPE_17     581\n",
            "24    SYMPTOM_TYPE_13     568\n",
            "54        TEST_TYPE_4     486\n",
            "8        DRUG_TYPE_16     384\n",
            "29    SYMPTOM_TYPE_18     153\n",
            "33    SYMPTOM_TYPE_21     120\n",
            "34    SYMPTOM_TYPE_22     115\n",
            "30    SYMPTOM_TYPE_19      73\n",
            "55        TEST_TYPE_5      62\n",
            "36    SYMPTOM_TYPE_24      30\n",
            "38    SYMPTOM_TYPE_26      26\n",
            "32    SYMPTOM_TYPE_20      19\n",
            "35    SYMPTOM_TYPE_23      15\n",
            "39    SYMPTOM_TYPE_27      10\n",
            "40    SYMPTOM_TYPE_28       6\n",
            "37    SYMPTOM_TYPE_25       2\n",
            "9        DRUG_TYPE_18       1\n"
          ]
        }
      ]
    }
  ]
}