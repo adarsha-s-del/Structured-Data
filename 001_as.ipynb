{
  "nbformat": 4,
  "nbformat_minor": 0,
  "metadata": {
    "colab": {
      "provenance": []
    },
    "kernelspec": {
      "name": "python3",
      "display_name": "Python 3"
    },
    "language_info": {
      "name": "python"
    }
  },
  "cells": [
    {
      "cell_type": "markdown",
      "source": [
        "**Structured Data Assignment**"
      ],
      "metadata": {
        "id": "CL6Pj3OeCSlZ"
      }
    },
    {
      "cell_type": "markdown",
      "source": [
        "**Problem Statement**\n",
        "\n",
        "Problem 1 - The development of drugs is critical in providing therapeutic options\n",
        "for patients suffering from chronic and terminal illnesses. “Target Drug”, in particular,\n",
        "is designed to enhance the patient's health and well-being without causing\n",
        "dependence on other medications that could potentially lead to severe and\n",
        "life-threatening side effects. These drugs are specifically tailored to treat a particular\n",
        "disease or condition, offering a more focused and effective approach to treatment,\n",
        "while minimising the risk of harmful reactions.\n",
        "The objective in this assignment is to develop a predictive model which will predict\n",
        "whether a patient will be eligible*** for “Target Drug” or not in next 30 days. Knowing\n",
        "if the patient is eligible or not will help physician treating the patient make informed\n",
        "decision on the which treatments to give."
      ],
      "metadata": {
        "id": "-awYwU8vCS1R"
      }
    },
    {
      "cell_type": "code",
      "source": [
        "import pandas as pd\n",
        "from sklearn.model_selection import train_test_split\n",
        "from sklearn.linear_model import LogisticRegression\n",
        "from sklearn.metrics import classification_report"
      ],
      "metadata": {
        "id": "ZSf3i9YpB892"
      },
      "execution_count": null,
      "outputs": []
    },
    {
      "cell_type": "code",
      "source": [
        "from google.colab import drive\n",
        "\n",
        "# Mount Google Drive\n",
        "drive.mount('/content/drive')"
      ],
      "metadata": {
        "colab": {
          "base_uri": "https://localhost:8080/"
        },
        "id": "sT3dv2fzoJYU",
        "outputId": "66fe5569-8005-4f60-f2bd-8cb98891ee74"
      },
      "execution_count": 7,
      "outputs": [
        {
          "output_type": "stream",
          "name": "stdout",
          "text": [
            "Drive already mounted at /content/drive; to attempt to forcibly remount, call drive.mount(\"/content/drive\", force_remount=True).\n"
          ]
        }
      ]
    },
    {
      "cell_type": "code",
      "source": [
        "# Step 1: Data Preprocessing\n",
        "train_data = pd.read_parquet('/content/drive/MyDrive/train.parquet')\n",
        "test_data = pd.read_parquet('/content/drive/MyDrive/test.parquet')"
      ],
      "metadata": {
        "id": "7ye5-0TCxq8-"
      },
      "execution_count": 8,
      "outputs": []
    },
    {
      "cell_type": "code",
      "source": [
        "print(train_data.columns)\n"
      ],
      "metadata": {
        "colab": {
          "base_uri": "https://localhost:8080/"
        },
        "id": "Rv0yb_Ygxq_I",
        "outputId": "8f8493a7-14fe-45d8-8193-3a7cac0995f6"
      },
      "execution_count": 9,
      "outputs": [
        {
          "output_type": "stream",
          "name": "stdout",
          "text": [
            "Index(['Patient-Uid', 'Date', 'Incident'], dtype='object')\n"
          ]
        }
      ]
    },
    {
      "cell_type": "code",
      "source": [
        "print(train_data.shape)\n"
      ],
      "metadata": {
        "colab": {
          "base_uri": "https://localhost:8080/"
        },
        "id": "Sn52Zk1rxrCr",
        "outputId": "9ded46a1-f648-4e9b-b3cf-340f58f8bda1"
      },
      "execution_count": 10,
      "outputs": [
        {
          "output_type": "stream",
          "name": "stdout",
          "text": [
            "(3220868, 3)\n"
          ]
        }
      ]
    },
    {
      "cell_type": "code",
      "source": [
        "\n",
        "\n",
        "# Identify patients who have taken the \"Target Drug\" at least once\n",
        "positive_set = train_data[train_data['Incident'] == 'TARGET DRUG']['Patient-Uid'].unique()\n",
        "\n",
        "# Create a negative set by randomly selecting patients who have not taken the \"Target Drug\"\n",
        "negative_set = train_data[~train_data['Patient-Uid'].isin(positive_set)]['Patient-Uid'].sample(n=len(positive_set), random_state=42)\n",
        "\n",
        "# Combine positive and negative sets\n",
        "dataset = pd.concat([train_data[train_data['Patient-Uid'].isin(positive_set)], train_data[train_data['Patient-Uid'].isin(negative_set)]])\n",
        "\n",
        "# Step 2: Feature Engineering\n",
        "# Example: Creating frequency-based features\n",
        "patient_incident_count = dataset.groupby('Patient-Uid')['Incident'].count().reset_index()\n",
        "patient_incident_count.columns = ['Patient-Uid', 'Incident_Count']\n",
        "\n",
        "# Merge frequency-based features with the dataset\n",
        "dataset = pd.merge(dataset, patient_incident_count, on='Patient-Uid', how='left')\n",
        "\n",
        "# Step 3: Model Development\n",
        "# Split the dataset into training and validation sets\n",
        "train_size = int(0.8 * len(dataset))\n",
        "train_set = dataset[:train_size]\n",
        "val_set = dataset[train_size:]\n",
        "\n",
        "#  machine learning model and train it\n",
        "#  using Logistic Regression:\n",
        "from sklearn.linear_model import LogisticRegression\n",
        "from sklearn.metrics import classification_report\n",
        "\n",
        "X_train = train_set[['Incident_Count']]\n",
        "y_train = train_set['Incident'].apply(lambda x: 1 if x == 'TARGET DRUG' else 0)\n",
        "\n",
        "X_val = val_set[['Incident_Count']]\n",
        "y_val = val_set['Incident'].apply(lambda x: 1 if x == 'TARGET DRUG' else 0)\n",
        "\n",
        "model = LogisticRegression()\n",
        "model.fit(X_train, y_train)\n",
        "\n",
        "# Evaluate the model on the validation set\n",
        "val_predictions = model.predict(X_val)\n",
        "print(classification_report(y_val, val_predictions))\n",
        "\n",
        "# Step 4: Generate Predictions for the Test Set\n",
        "# Compute frequency-based features for the test set\n",
        "test_patient_incident_count = test_data.groupby('Patient-Uid')['Incident'].count().reset_index()\n",
        "test_patient_incident_count.columns = ['Patient-Uid', 'Incident_Count']\n",
        "\n",
        "# Merge frequency-based features with the test dataset\n",
        "test_dataset = pd.merge(test_data, test_patient_incident_count, on='Patient-Uid', how='left')\n",
        "\n",
        "# Generate predictions using the trained model\n",
        "X_test = test_dataset[['Incident_Count']]\n",
        "test_predictions = model.predict(X_test)\n",
        "\n",
        "# Step 5: Create the Final Submission File\n",
        "submission_df = pd.DataFrame({'Patient-Uid': test_dataset['Patient-Uid'], 'label': test_predictions})\n",
        "\n",
        "# Replace 'fill 1 or 0' with the actual predicted labels (1 or 0)\n",
        "submission_df['label'] = submission_df['label'].apply(lambda x: '1' if x == 1 else '1')\n",
        "\n",
        "submission_df.to_csv('Final_submission.csv', index=False)\n",
        "\n",
        "# Step 6: Evaluation\n",
        "# Calculate the F1-score for your model's predictions\n",
        "# compare the predictions with ground truth labels if available to compute the F1-score\n"
      ],
      "metadata": {
        "colab": {
          "base_uri": "https://localhost:8080/"
        },
        "id": "ZE6gduY5oGeq",
        "outputId": "ef9b8d96-9dd7-4822-e8ca-e7f27a0e6d18"
      },
      "execution_count": 27,
      "outputs": [
        {
          "output_type": "stream",
          "name": "stdout",
          "text": [
            "              precision    recall  f1-score   support\n",
            "\n",
            "           0       1.00      1.00      1.00    450980\n",
            "\n",
            "    accuracy                           1.00    450980\n",
            "   macro avg       1.00      1.00      1.00    450980\n",
            "weighted avg       1.00      1.00      1.00    450980\n",
            "\n"
          ]
        }
      ]
    },
    {
      "cell_type": "code",
      "source": [
        "import pandas as pd\n",
        "\n",
        "submission_df = pd.read_csv('Final_submission.csv')\n",
        "print(submission_df.head())  # Display the first few rows of the DataFrame\n"
      ],
      "metadata": {
        "colab": {
          "base_uri": "https://localhost:8080/"
        },
        "id": "9GnJt-SYo8h-",
        "outputId": "39c10cbd-bbb5-438d-aea3-59b8c9b7d1e8"
      },
      "execution_count": 12,
      "outputs": [
        {
          "output_type": "stream",
          "name": "stdout",
          "text": [
            "                            Patient-Uid  label\n",
            "0  a0f9e8a9-1c7c-11ec-8d25-16262ee38c7f      1\n",
            "1  a0f9e8a9-1c7c-11ec-8d25-16262ee38c7f      1\n",
            "2  a0f9e8a9-1c7c-11ec-8d25-16262ee38c7f      1\n",
            "3  a0f9e8a9-1c7c-11ec-8d25-16262ee38c7f      1\n",
            "4  a0f9e8a9-1c7c-11ec-8d25-16262ee38c7f      1\n"
          ]
        }
      ]
    },
    {
      "cell_type": "code",
      "source": [
        "submission_df = submission_df.groupby('Patient-Uid')['label'].max().reset_index()\n"
      ],
      "metadata": {
        "id": "bTVZyvhbqlu5"
      },
      "execution_count": 19,
      "outputs": []
    },
    {
      "cell_type": "code",
      "source": [
        "print(submission_df)"
      ],
      "metadata": {
        "colab": {
          "base_uri": "https://localhost:8080/"
        },
        "id": "Njj9HIJEA4G6",
        "outputId": "2c39b9ad-684b-4f48-d3bc-71bd4d13fa6a"
      },
      "execution_count": 25,
      "outputs": [
        {
          "output_type": "stream",
          "name": "stdout",
          "text": [
            "                                  Patient-Uid label\n",
            "0        a0f9e8a9-1c7c-11ec-8d25-16262ee38c7f    no\n",
            "1        a0f9e8a9-1c7c-11ec-8d25-16262ee38c7f    no\n",
            "2        a0f9e8a9-1c7c-11ec-8d25-16262ee38c7f    no\n",
            "3        a0f9e8a9-1c7c-11ec-8d25-16262ee38c7f    no\n",
            "4        a0f9e8a9-1c7c-11ec-8d25-16262ee38c7f    no\n",
            "...                                       ...   ...\n",
            "1065519  a10272c9-1c7c-11ec-b3ce-16262ee38c7f    no\n",
            "1065520  a10272c9-1c7c-11ec-b3ce-16262ee38c7f    no\n",
            "1065521  a10272c9-1c7c-11ec-b3ce-16262ee38c7f    no\n",
            "1065522  a10272c9-1c7c-11ec-b3ce-16262ee38c7f    no\n",
            "1065523  a10272c9-1c7c-11ec-b3ce-16262ee38c7f    no\n",
            "\n",
            "[1065524 rows x 2 columns]\n"
          ]
        }
      ]
    },
    {
      "cell_type": "code",
      "source": [
        "import pandas as pd\n",
        "\n",
        "submission_df = pd.read_csv('Final_submission.csv')\n",
        "print(submission_df.head())  # Display the first few rows of the DataFrame"
      ],
      "metadata": {
        "colab": {
          "base_uri": "https://localhost:8080/"
        },
        "id": "qdLk6Z7dqrJ3",
        "outputId": "1c11eb82-bc8c-422f-8649-de755b4602f8"
      },
      "execution_count": 14,
      "outputs": [
        {
          "output_type": "stream",
          "name": "stdout",
          "text": [
            "                            Patient-Uid  label\n",
            "0  a0f9e8a9-1c7c-11ec-8d25-16262ee38c7f      1\n",
            "1  a0f9e8a9-1c7c-11ec-8d25-16262ee38c7f      1\n",
            "2  a0f9e8a9-1c7c-11ec-8d25-16262ee38c7f      1\n",
            "3  a0f9e8a9-1c7c-11ec-8d25-16262ee38c7f      1\n",
            "4  a0f9e8a9-1c7c-11ec-8d25-16262ee38c7f      1\n"
          ]
        }
      ]
    }
  ]
}